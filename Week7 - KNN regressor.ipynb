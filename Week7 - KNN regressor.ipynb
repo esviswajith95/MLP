{
 "cells": [
  {
   "cell_type": "markdown",
   "metadata": {},
   "source": [
    "# Using KNN for regression tasks"
   ]
  },
  {
   "cell_type": "code",
   "execution_count": 14,
   "metadata": {},
   "outputs": [],
   "source": [
    "#Imports\n",
    "import numpy as np\n",
    "import pandas as pd\n",
    "import matplotlib.pyplot as plt\n",
    "from sklearn.neighbors import KNeighborsRegressor\n",
    "from sklearn.metrics import mean_squared_error\n",
    "from sklearn.pipeline import Pipeline\n",
    "from sklearn.preprocessing import MinMaxScaler\n",
    "from sklearn.preprocessing import PolynomialFeatures\n",
    "\n",
    "from sklearn.datasets import fetch_california_housing\n",
    "from sklearn.model_selection import train_test_split\n",
    "from sklearn.model_selection import GridSearchCV\n",
    "from sklearn.model_selection import RandomizedSearchCV"
   ]
  },
  {
   "cell_type": "markdown",
   "metadata": {},
   "source": [
    "## Training data"
   ]
  },
  {
   "cell_type": "code",
   "execution_count": 15,
   "metadata": {},
   "outputs": [],
   "source": [
    "X, y = fetch_california_housing(return_X_y = True)"
   ]
  },
  {
   "cell_type": "code",
   "execution_count": 16,
   "metadata": {},
   "outputs": [],
   "source": [
    "X_train, X_test, y_train, y_test = train_test_split(X, y, test_size=0.3, random_state=8)"
   ]
  },
  {
   "cell_type": "markdown",
   "metadata": {},
   "source": [
    "As we have seen earlier, the feature scales for this dataset varies widely. Since KNN involves distance compuations, it is crucial to convert them to similar scales."
   ]
  },
  {
   "cell_type": "markdown",
   "metadata": {},
   "source": [
    "## Model building"
   ]
  },
  {
   "cell_type": "code",
   "execution_count": 17,
   "metadata": {},
   "outputs": [
    {
     "name": "stdout",
     "output_type": "stream",
     "text": [
      "0.6767822465759739\n"
     ]
    }
   ],
   "source": [
    "pipe = Pipeline([('scaler', MinMaxScaler()),\n",
    "                ('knn', KNeighborsRegressor(n_neighbors=2))])\n",
    "\n",
    "pipe.fit(X_train, y_train)\n",
    "\n",
    "y_pred = pipe.predict(X_test)\n",
    "\n",
    "error = mean_squared_error(y_test, y_pred, squared=False)\n",
    "print(error)"
   ]
  },
  {
   "cell_type": "markdown",
   "metadata": {},
   "source": [
    "## Model selection and evaluation"
   ]
  },
  {
   "cell_type": "markdown",
   "metadata": {},
   "source": [
    "### Manual HPT with cross validation"
   ]
  },
  {
   "cell_type": "code",
   "execution_count": 18,
   "metadata": {},
   "outputs": [],
   "source": [
    "rmse_val = []\n",
    "for k in range(1, 31):\n",
    "    pipe = Pipeline([('scaler', MinMaxScaler()),\n",
    "                ('knn', KNeighborsRegressor(n_neighbors=k))])\n",
    "\n",
    "    pipe.fit(X_train, y_train)\n",
    "\n",
    "    y_pred = pipe.predict(X_test)\n",
    "\n",
    "    error = mean_squared_error(y_test, y_pred, squared=False)\n",
    "    rmse_val.append(error)\n"
   ]
  },
  {
   "cell_type": "code",
   "execution_count": 19,
   "metadata": {},
   "outputs": [
    {
     "data": {
      "image/png": "[encoded data removed]",
      "text/plain": [
       "<Figure size 720x720 with 1 Axes>"
      ]
     },
     "metadata": {
      "needs_background": "light"
     },
     "output_type": "display_data"
    }
   ],
   "source": [
    "plt.figure(figsize=(10, 10))\n",
    "\n",
    "plt.plot(range(1, len(rmse_val) + 1), rmse_val, color='green')\n",
    "plt.xlabel('k')\n",
    "plt.ylabel('RMSE')\n",
    "plt.grid('True')\n",
    "\n",
    "plt.title(\"Validation Loss vs K\", fontsize=24)\n",
    "plt.show()"
   ]
  },
  {
   "cell_type": "code",
   "execution_count": 20,
   "metadata": {},
   "outputs": [
    {
     "name": "stdout",
     "output_type": "stream",
     "text": [
      "Lowest RMSE value comes from k = 9\n"
     ]
    }
   ],
   "source": [
    "print(\"Lowest RMSE value comes from k = {}\".format(np.argmin(rmse_val) + 1))"
   ]
  },
  {
   "cell_type": "markdown",
   "metadata": {},
   "source": [
    "### HPT with `GridSearchCV`"
   ]
  },
  {
   "cell_type": "code",
   "execution_count": 21,
   "metadata": {},
   "outputs": [
    {
     "name": "stdout",
     "output_type": "stream",
     "text": [
      "Pipeline(steps=[('scaler', MinMaxScaler()),\n",
      "                ('knn', KNeighborsRegressor(n_neighbors=6))])\n"
     ]
    }
   ],
   "source": [
    "param_grid = {'knn__n_neighbors': list(range(1, 31))}\n",
    "\n",
    "pipe = Pipeline([('scaler', MinMaxScaler()),\n",
    "                ('knn', KNeighborsRegressor())])\n",
    "\n",
    "grid_search = GridSearchCV(estimator=pipe,\n",
    "                            param_grid=param_grid,\n",
    "                            cv=10, n_jobs=-1,\n",
    "                            return_train_score=True)\n",
    "\n",
    "grid_search.fit(X_train, y_train)\n",
    "\n",
    "reg_knn = grid_search.best_estimator_\n",
    "print(reg_knn)"
   ]
  },
  {
   "cell_type": "code",
   "execution_count": 23,
   "metadata": {},
   "outputs": [
    {
     "name": "stdout",
     "output_type": "stream",
     "text": [
      "0.6365126933355182\n"
     ]
    }
   ],
   "source": [
    "pred = reg_knn.predict(X_test)\n",
    "error = mean_squared_error(y_test, y_pred, squared=False)\n",
    "print(error)"
   ]
  },
  {
   "cell_type": "markdown",
   "metadata": {},
   "source": [
    "## Polynomial features"
   ]
  },
  {
   "cell_type": "code",
   "execution_count": 25,
   "metadata": {},
   "outputs": [
    {
     "name": "stdout",
     "output_type": "stream",
     "text": [
      "Pipeline(steps=[('poly', PolynomialFeatures(degree=1)),\n",
      "                ('scaler', MinMaxScaler()),\n",
      "                ('knn', KNeighborsRegressor(n_neighbors=6))])\n"
     ]
    }
   ],
   "source": [
    "param_grid = {'poly__degree': list(range(1,4)),\n",
    "              'knn__n_neighbors': list(range(6, 12))}\n",
    "\n",
    "pipe = Pipeline([('poly', PolynomialFeatures()),\n",
    "                ('scaler', MinMaxScaler()),\n",
    "                ('knn', KNeighborsRegressor())])\n",
    "\n",
    "grid_search = GridSearchCV(estimator=pipe,\n",
    "                            param_grid=param_grid,\n",
    "                            cv=10, n_jobs=-1,\n",
    "                            return_train_score=True)\n",
    "\n",
    "grid_search.fit(X_train, y_train)\n",
    "\n",
    "reg_knn = grid_search.best_estimator_\n",
    "print(reg_knn)"
   ]
  },
  {
   "cell_type": "code",
   "execution_count": 26,
   "metadata": {},
   "outputs": [
    {
     "name": "stdout",
     "output_type": "stream",
     "text": [
      "0.6365126933355182\n"
     ]
    }
   ],
   "source": [
    "pred = reg_knn.predict(X_test)\n",
    "error = mean_squared_error(y_test, y_pred, squared=False)\n",
    "print(error)"
   ]
  },
  {
   "cell_type": "code",
   "execution_count": null,
   "metadata": {},
   "outputs": [],
   "source": []
  }
 ],
 "metadata": {
  "kernelspec": {
   "display_name": "Python 3.10.2 64-bit",
   "language": "python",
   "name": "python3"
  },
  "language_info": {
   "codemirror_mode": {
    "name": "ipython",
    "version": 3
   },
   "file_extension": ".py",
   "mimetype": "text/x-python",
   "name": "python",
   "nbconvert_exporter": "python",
   "pygments_lexer": "ipython3",
   "version": "3.10.2"
  },
  "orig_nbformat": 4,
  "vscode": {
   "interpreter": {
    "hash": "369f2c481f4da34e4445cda3fffd2e751bd1c4d706f27375911949ba6bb62e1c"
   }
  }
 },
 "nbformat": 4,
 "nbformat_minor": 2
}
